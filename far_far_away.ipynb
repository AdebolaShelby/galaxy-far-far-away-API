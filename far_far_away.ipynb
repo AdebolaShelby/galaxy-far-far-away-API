{
 "cells": [
  {
   "cell_type": "code",
   "execution_count": 5,
   "metadata": {},
   "outputs": [],
   "source": [
    "# Dependencies\n",
    "import requests\n",
    "import json"
   ]
  },
  {
   "cell_type": "code",
   "execution_count": 6,
   "metadata": {},
   "outputs": [
    {
     "name": "stdout",
     "output_type": "stream",
     "text": [
      "<Response [200]>\n",
      "{\n",
      "    \"count\": 82,\n",
      "    \"next\": \"https://swapi.dev/api/people/?page=2\",\n",
      "    \"previous\": null,\n",
      "    \"results\": [\n",
      "        {\n",
      "            \"birth_year\": \"19BBY\",\n",
      "            \"created\": \"2014-12-09T13:50:51.644000Z\",\n",
      "            \"edited\": \"2014-12-20T21:17:56.891000Z\",\n",
      "            \"eye_color\": \"blue\",\n",
      "            \"films\": [\n",
      "                \"https://swapi.dev/api/films/1/\",\n",
      "                \"https://swapi.dev/api/films/2/\",\n",
      "                \"https://swapi.dev/api/films/3/\",\n",
      "                \"https://swapi.dev/api/films/6/\"\n",
      "            ],\n",
      "            \"gender\": \"male\",\n",
      "            \"hair_color\": \"blond\",\n",
      "            \"height\": \"172\",\n",
      "            \"homeworld\": \"https://swapi.dev/api/planets/1/\",\n",
      "            \"mass\": \"77\",\n",
      "            \"name\": \"Luke Skywalker\",\n",
      "            \"skin_color\": \"fair\",\n",
      "            \"species\": [],\n",
      "            \"starships\": [\n",
      "                \"https://swapi.dev/api/starships/12/\",\n",
      "                \"https://swapi.dev/api/starships/22/\"\n",
      "            ],\n",
      "            \"url\": \"https://swapi.dev/api/people/1/\",\n",
      "            \"vehicles\": [\n",
      "                \"https://swapi.dev/api/vehicles/14/\",\n",
      "                \"https://swapi.dev/api/vehicles/30/\"\n",
      "            ]\n",
      "        },\n",
      "        {\n",
      "            \"birth_year\": \"112BBY\",\n",
      "            \"created\": \"2014-12-10T15:10:51.357000Z\",\n",
      "            \"edited\": \"2014-12-20T21:17:50.309000Z\",\n",
      "            \"eye_color\": \"yellow\",\n",
      "            \"films\": [\n",
      "                \"https://swapi.dev/api/films/1/\",\n",
      "                \"https://swapi.dev/api/films/2/\",\n",
      "                \"https://swapi.dev/api/films/3/\",\n",
      "                \"https://swapi.dev/api/films/4/\",\n",
      "                \"https://swapi.dev/api/films/5/\",\n",
      "                \"https://swapi.dev/api/films/6/\"\n",
      "            ],\n",
      "            \"gender\": \"n/a\",\n",
      "            \"hair_color\": \"n/a\",\n",
      "            \"height\": \"167\",\n",
      "            \"homeworld\": \"https://swapi.dev/api/planets/1/\",\n",
      "            \"mass\": \"75\",\n",
      "            \"name\": \"C-3PO\",\n",
      "            \"skin_color\": \"gold\",\n",
      "            \"species\": [\n",
      "                \"https://swapi.dev/api/species/2/\"\n",
      "            ],\n",
      "            \"starships\": [],\n",
      "            \"url\": \"https://swapi.dev/api/people/2/\",\n",
      "            \"vehicles\": []\n",
      "        },\n",
      "        {\n",
      "            \"birth_year\": \"33BBY\",\n",
      "            \"created\": \"2014-12-10T15:11:50.376000Z\",\n",
      "            \"edited\": \"2014-12-20T21:17:50.311000Z\",\n",
      "            \"eye_color\": \"red\",\n",
      "            \"films\": [\n",
      "                \"https://swapi.dev/api/films/1/\",\n",
      "                \"https://swapi.dev/api/films/2/\",\n",
      "                \"https://swapi.dev/api/films/3/\",\n",
      "                \"https://swapi.dev/api/films/4/\",\n",
      "                \"https://swapi.dev/api/films/5/\",\n",
      "                \"https://swapi.dev/api/films/6/\"\n",
      "            ],\n",
      "            \"gender\": \"n/a\",\n",
      "            \"hair_color\": \"n/a\",\n",
      "            \"height\": \"96\",\n",
      "            \"homeworld\": \"https://swapi.dev/api/planets/8/\",\n",
      "            \"mass\": \"32\",\n",
      "            \"name\": \"R2-D2\",\n",
      "            \"skin_color\": \"white, blue\",\n",
      "            \"species\": [\n",
      "                \"https://swapi.dev/api/species/2/\"\n",
      "            ],\n",
      "            \"starships\": [],\n",
      "            \"url\": \"https://swapi.dev/api/people/3/\",\n",
      "            \"vehicles\": []\n",
      "        },\n",
      "        {\n",
      "            \"birth_year\": \"41.9BBY\",\n",
      "            \"created\": \"2014-12-10T15:18:20.704000Z\",\n",
      "            \"edited\": \"2014-12-20T21:17:50.313000Z\",\n",
      "            \"eye_color\": \"yellow\",\n",
      "            \"films\": [\n",
      "                \"https://swapi.dev/api/films/1/\",\n",
      "                \"https://swapi.dev/api/films/2/\",\n",
      "                \"https://swapi.dev/api/films/3/\",\n",
      "                \"https://swapi.dev/api/films/6/\"\n",
      "            ],\n",
      "            \"gender\": \"male\",\n",
      "            \"hair_color\": \"none\",\n",
      "            \"height\": \"202\",\n",
      "            \"homeworld\": \"https://swapi.dev/api/planets/1/\",\n",
      "            \"mass\": \"136\",\n",
      "            \"name\": \"Darth Vader\",\n",
      "            \"skin_color\": \"white\",\n",
      "            \"species\": [],\n",
      "            \"starships\": [\n",
      "                \"https://swapi.dev/api/starships/13/\"\n",
      "            ],\n",
      "            \"url\": \"https://swapi.dev/api/people/4/\",\n",
      "            \"vehicles\": []\n",
      "        },\n",
      "        {\n",
      "            \"birth_year\": \"19BBY\",\n",
      "            \"created\": \"2014-12-10T15:20:09.791000Z\",\n",
      "            \"edited\": \"2014-12-20T21:17:50.315000Z\",\n",
      "            \"eye_color\": \"brown\",\n",
      "            \"films\": [\n",
      "                \"https://swapi.dev/api/films/1/\",\n",
      "                \"https://swapi.dev/api/films/2/\",\n",
      "                \"https://swapi.dev/api/films/3/\",\n",
      "                \"https://swapi.dev/api/films/6/\"\n",
      "            ],\n",
      "            \"gender\": \"female\",\n",
      "            \"hair_color\": \"brown\",\n",
      "            \"height\": \"150\",\n",
      "            \"homeworld\": \"https://swapi.dev/api/planets/2/\",\n",
      "            \"mass\": \"49\",\n",
      "            \"name\": \"Leia Organa\",\n",
      "            \"skin_color\": \"light\",\n",
      "            \"species\": [],\n",
      "            \"starships\": [],\n",
      "            \"url\": \"https://swapi.dev/api/people/5/\",\n",
      "            \"vehicles\": [\n",
      "                \"https://swapi.dev/api/vehicles/30/\"\n",
      "            ]\n",
      "        },\n",
      "        {\n",
      "            \"birth_year\": \"52BBY\",\n",
      "            \"created\": \"2014-12-10T15:52:14.024000Z\",\n",
      "            \"edited\": \"2014-12-20T21:17:50.317000Z\",\n",
      "            \"eye_color\": \"blue\",\n",
      "            \"films\": [\n",
      "                \"https://swapi.dev/api/films/1/\",\n",
      "                \"https://swapi.dev/api/films/5/\",\n",
      "                \"https://swapi.dev/api/films/6/\"\n",
      "            ],\n",
      "            \"gender\": \"male\",\n",
      "            \"hair_color\": \"brown, grey\",\n",
      "            \"height\": \"178\",\n",
      "            \"homeworld\": \"https://swapi.dev/api/planets/1/\",\n",
      "            \"mass\": \"120\",\n",
      "            \"name\": \"Owen Lars\",\n",
      "            \"skin_color\": \"light\",\n",
      "            \"species\": [],\n",
      "            \"starships\": [],\n",
      "            \"url\": \"https://swapi.dev/api/people/6/\",\n",
      "            \"vehicles\": []\n",
      "        },\n",
      "        {\n",
      "            \"birth_year\": \"47BBY\",\n",
      "            \"created\": \"2014-12-10T15:53:41.121000Z\",\n",
      "            \"edited\": \"2014-12-20T21:17:50.319000Z\",\n",
      "            \"eye_color\": \"blue\",\n",
      "            \"films\": [\n",
      "                \"https://swapi.dev/api/films/1/\",\n",
      "                \"https://swapi.dev/api/films/5/\",\n",
      "                \"https://swapi.dev/api/films/6/\"\n",
      "            ],\n",
      "            \"gender\": \"female\",\n",
      "            \"hair_color\": \"brown\",\n",
      "            \"height\": \"165\",\n",
      "            \"homeworld\": \"https://swapi.dev/api/planets/1/\",\n",
      "            \"mass\": \"75\",\n",
      "            \"name\": \"Beru Whitesun lars\",\n",
      "            \"skin_color\": \"light\",\n",
      "            \"species\": [],\n",
      "            \"starships\": [],\n",
      "            \"url\": \"https://swapi.dev/api/people/7/\",\n",
      "            \"vehicles\": []\n",
      "        },\n",
      "        {\n",
      "            \"birth_year\": \"unknown\",\n",
      "            \"created\": \"2014-12-10T15:57:50.959000Z\",\n",
      "            \"edited\": \"2014-12-20T21:17:50.321000Z\",\n",
      "            \"eye_color\": \"red\",\n",
      "            \"films\": [\n",
      "                \"https://swapi.dev/api/films/1/\"\n",
      "            ],\n",
      "            \"gender\": \"n/a\",\n",
      "            \"hair_color\": \"n/a\",\n",
      "            \"height\": \"97\",\n",
      "            \"homeworld\": \"https://swapi.dev/api/planets/1/\",\n",
      "            \"mass\": \"32\",\n",
      "            \"name\": \"R5-D4\",\n",
      "            \"skin_color\": \"white, red\",\n",
      "            \"species\": [\n",
      "                \"https://swapi.dev/api/species/2/\"\n",
      "            ],\n",
      "            \"starships\": [],\n",
      "            \"url\": \"https://swapi.dev/api/people/8/\",\n",
      "            \"vehicles\": []\n",
      "        },\n",
      "        {\n",
      "            \"birth_year\": \"24BBY\",\n",
      "            \"created\": \"2014-12-10T15:59:50.509000Z\",\n",
      "            \"edited\": \"2014-12-20T21:17:50.323000Z\",\n",
      "            \"eye_color\": \"brown\",\n",
      "            \"films\": [\n",
      "                \"https://swapi.dev/api/films/1/\"\n",
      "            ],\n",
      "            \"gender\": \"male\",\n",
      "            \"hair_color\": \"black\",\n",
      "            \"height\": \"183\",\n",
      "            \"homeworld\": \"https://swapi.dev/api/planets/1/\",\n",
      "            \"mass\": \"84\",\n",
      "            \"name\": \"Biggs Darklighter\",\n",
      "            \"skin_color\": \"light\",\n",
      "            \"species\": [],\n",
      "            \"starships\": [\n",
      "                \"https://swapi.dev/api/starships/12/\"\n",
      "            ],\n",
      "            \"url\": \"https://swapi.dev/api/people/9/\",\n",
      "            \"vehicles\": []\n",
      "        },\n",
      "        {\n",
      "            \"birth_year\": \"57BBY\",\n",
      "            \"created\": \"2014-12-10T16:16:29.192000Z\",\n",
      "            \"edited\": \"2014-12-20T21:17:50.325000Z\",\n",
      "            \"eye_color\": \"blue-gray\",\n",
      "            \"films\": [\n",
      "                \"https://swapi.dev/api/films/1/\",\n",
      "                \"https://swapi.dev/api/films/2/\",\n",
      "                \"https://swapi.dev/api/films/3/\",\n",
      "                \"https://swapi.dev/api/films/4/\",\n",
      "                \"https://swapi.dev/api/films/5/\",\n",
      "                \"https://swapi.dev/api/films/6/\"\n",
      "            ],\n",
      "            \"gender\": \"male\",\n",
      "            \"hair_color\": \"auburn, white\",\n",
      "            \"height\": \"182\",\n",
      "            \"homeworld\": \"https://swapi.dev/api/planets/20/\",\n",
      "            \"mass\": \"77\",\n",
      "            \"name\": \"Obi-Wan Kenobi\",\n",
      "            \"skin_color\": \"fair\",\n",
      "            \"species\": [],\n",
      "            \"starships\": [\n",
      "                \"https://swapi.dev/api/starships/48/\",\n",
      "                \"https://swapi.dev/api/starships/59/\",\n",
      "                \"https://swapi.dev/api/starships/64/\",\n",
      "                \"https://swapi.dev/api/starships/65/\",\n",
      "                \"https://swapi.dev/api/starships/74/\"\n",
      "            ],\n",
      "            \"url\": \"https://swapi.dev/api/people/10/\",\n",
      "            \"vehicles\": [\n",
      "                \"https://swapi.dev/api/vehicles/38/\"\n",
      "            ]\n",
      "        }\n",
      "    ]\n",
      "}\n"
     ]
    }
   ],
   "source": [
    "# URL for GET requests to retrieve Star Wars character data\n",
    "base_url = \"https://swapi.dev/api/people/\"\n",
    "response = requests.get(base_url)\n",
    "print(response)\n",
    "print(json.dumps(response.json(), indent=4, sort_keys=True))"
   ]
  },
  {
   "cell_type": "code",
   "execution_count": 7,
   "metadata": {},
   "outputs": [
    {
     "name": "stdout",
     "output_type": "stream",
     "text": [
      "https://swapi.dev/api/people/4\n"
     ]
    }
   ],
   "source": [
    "# Create a url with a specific character id\n",
    "character_id = '4'\n",
    "url = base_url + character_id\n",
    "print(url)"
   ]
  },
  {
   "cell_type": "code",
   "execution_count": 8,
   "metadata": {},
   "outputs": [
    {
     "name": "stdout",
     "output_type": "stream",
     "text": [
      "https://swapi.dev/api/people/4\n"
     ]
    }
   ],
   "source": [
    "# Perform a get request for this character\n",
    "response = requests.get(url)\n",
    "print(response.url)"
   ]
  },
  {
   "cell_type": "code",
   "execution_count": 9,
   "metadata": {},
   "outputs": [
    {
     "name": "stdout",
     "output_type": "stream",
     "text": [
      "{\n",
      "    \"birth_year\": \"41.9BBY\",\n",
      "    \"created\": \"2014-12-10T15:18:20.704000Z\",\n",
      "    \"edited\": \"2014-12-20T21:17:50.313000Z\",\n",
      "    \"eye_color\": \"yellow\",\n",
      "    \"films\": [\n",
      "        \"https://swapi.dev/api/films/1/\",\n",
      "        \"https://swapi.dev/api/films/2/\",\n",
      "        \"https://swapi.dev/api/films/3/\",\n",
      "        \"https://swapi.dev/api/films/6/\"\n",
      "    ],\n",
      "    \"gender\": \"male\",\n",
      "    \"hair_color\": \"none\",\n",
      "    \"height\": \"202\",\n",
      "    \"homeworld\": \"https://swapi.dev/api/planets/1/\",\n",
      "    \"mass\": \"136\",\n",
      "    \"name\": \"Darth Vader\",\n",
      "    \"skin_color\": \"white\",\n",
      "    \"species\": [],\n",
      "    \"starships\": [\n",
      "        \"https://swapi.dev/api/starships/13/\"\n",
      "    ],\n",
      "    \"url\": \"https://swapi.dev/api/people/4/\",\n",
      "    \"vehicles\": []\n",
      "}\n"
     ]
    }
   ],
   "source": [
    "# Storing the JSON response within a variable\n",
    "data = response.json()\n",
    "# Use json.dumps to print the json\n",
    "print(json.dumps(data, indent=4, sort_keys=True))\n"
   ]
  },
  {
   "cell_type": "code",
   "execution_count": 10,
   "metadata": {},
   "outputs": [
    {
     "name": "stdout",
     "output_type": "stream",
     "text": [
      "Darth Vader\n"
     ]
    }
   ],
   "source": [
    "# Print the name of the character retrieved\n",
    "print(data[\"name\"])"
   ]
  },
  {
   "cell_type": "code",
   "execution_count": 11,
   "metadata": {},
   "outputs": [
    {
     "name": "stdout",
     "output_type": "stream",
     "text": [
      "4\n"
     ]
    }
   ],
   "source": [
    "# Print the number of films that they were in (hint: use len())\n",
    "print(len(data[\"films\"]))"
   ]
  },
  {
   "cell_type": "code",
   "execution_count": 16,
   "metadata": {},
   "outputs": [
    {
     "name": "stdout",
     "output_type": "stream",
     "text": [
      "{'name': 'TIE Advanced x1', 'model': 'Twin Ion Engine Advanced x1', 'manufacturer': 'Sienar Fleet Systems', 'cost_in_credits': 'unknown', 'length': '9.2', 'max_atmosphering_speed': '1200', 'crew': '1', 'passengers': '0', 'cargo_capacity': '150', 'consumables': '5 days', 'hyperdrive_rating': '1.0', 'MGLT': '105', 'starship_class': 'Starfighter', 'pilots': ['https://swapi.dev/api/people/4/'], 'films': ['https://swapi.dev/api/films/1/'], 'created': '2014-12-12T11:21:32.991000Z', 'edited': '2014-12-20T21:23:49.889000Z', 'url': 'https://swapi.dev/api/starships/13/'}\n",
      "{\n",
      "    \"MGLT\": \"105\",\n",
      "    \"cargo_capacity\": \"150\",\n",
      "    \"consumables\": \"5 days\",\n",
      "    \"cost_in_credits\": \"unknown\",\n",
      "    \"created\": \"2014-12-12T11:21:32.991000Z\",\n",
      "    \"crew\": \"1\",\n",
      "    \"edited\": \"2014-12-20T21:23:49.889000Z\",\n",
      "    \"films\": [\n",
      "        \"https://swapi.dev/api/films/1/\"\n",
      "    ],\n",
      "    \"hyperdrive_rating\": \"1.0\",\n",
      "    \"length\": \"9.2\",\n",
      "    \"manufacturer\": \"Sienar Fleet Systems\",\n",
      "    \"max_atmosphering_speed\": \"1200\",\n",
      "    \"model\": \"Twin Ion Engine Advanced x1\",\n",
      "    \"name\": \"TIE Advanced x1\",\n",
      "    \"passengers\": \"0\",\n",
      "    \"pilots\": [\n",
      "        \"https://swapi.dev/api/people/4/\"\n",
      "    ],\n",
      "    \"starship_class\": \"Starfighter\",\n",
      "    \"url\": \"https://swapi.dev/api/starships/13/\"\n",
      "}\n"
     ]
    }
   ],
   "source": [
    "# Request the starships URI found in the starships property of the\n",
    "# previously retreived json, then use the response to figure out what this \n",
    "# character's first starship was\n",
    "first_ship = data[\"starships\"] [0]\n",
    "ship_response = requests.get(first_ship).json()\n",
    "print(ship_response)\n",
    "print(json.dumps(ship_response, indent=4, sort_keys=True))\n"
   ]
  },
  {
   "cell_type": "code",
   "execution_count": 18,
   "metadata": {},
   "outputs": [
    {
     "name": "stdout",
     "output_type": "stream",
     "text": [
      "TIE Advanced x1\n"
     ]
    }
   ],
   "source": [
    "# Print the name of the character's first starship\n",
    "print(ship_response[\"name\"])"
   ]
  },
  {
   "cell_type": "code",
   "execution_count": 19,
   "metadata": {},
   "outputs": [
    {
     "name": "stdout",
     "output_type": "stream",
     "text": [
      "A New Hope\n",
      "The Empire Strikes Back\n",
      "Return of the Jedi\n",
      "Revenge of the Sith\n"
     ]
    }
   ],
   "source": [
    "# BONUS\n",
    "films = data[\"films\"]\n",
    "for film in films:\n",
    "    film_response = requests.get(film).json()\n",
    "    print(film_response[\"title\"])"
   ]
  },
  {
   "cell_type": "code",
   "execution_count": null,
   "metadata": {
    "collapsed": true
   },
   "outputs": [],
   "source": []
  }
 ],
 "metadata": {
  "kernelspec": {
   "display_name": "Python 3 (ipykernel)",
   "language": "python",
   "name": "python3"
  },
  "language_info": {
   "codemirror_mode": {
    "name": "ipython",
    "version": 3
   },
   "file_extension": ".py",
   "mimetype": "text/x-python",
   "name": "python",
   "nbconvert_exporter": "python",
   "pygments_lexer": "ipython3",
   "version": "3.12.4"
  },
  "varInspector": {
   "cols": {
    "lenName": 16,
    "lenType": 16,
    "lenVar": 40
   },
   "kernels_config": {
    "python": {
     "delete_cmd_postfix": "",
     "delete_cmd_prefix": "del ",
     "library": "var_list.py",
     "varRefreshCmd": "print(var_dic_list())"
    },
    "r": {
     "delete_cmd_postfix": ") ",
     "delete_cmd_prefix": "rm(",
     "library": "var_list.r",
     "varRefreshCmd": "cat(var_dic_list()) "
    }
   },
   "types_to_exclude": [
    "module",
    "function",
    "builtin_function_or_method",
    "instance",
    "_Feature"
   ],
   "window_display": false
  }
 },
 "nbformat": 4,
 "nbformat_minor": 2
}
